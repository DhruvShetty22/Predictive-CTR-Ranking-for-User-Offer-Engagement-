{
 "cells": [
  {
   "cell_type": "code",
   "execution_count": 2,
   "id": "b609546f-16de-4401-b92f-b205bd6663fa",
   "metadata": {},
   "outputs": [
    {
     "name": "stdout",
     "output_type": "stream",
     "text": [
      "📦 Loading event logs...\n",
      "🧮 Calculating delays...\n"
     ]
    },
    {
     "name": "stderr",
     "output_type": "stream",
     "text": [
      "C:\\Users\\dhruv\\AppData\\Local\\Temp\\ipykernel_9284\\113078733.py:22: FutureWarning: A value is trying to be set on a copy of a DataFrame or Series through chained assignment using an inplace method.\n",
      "The behavior will change in pandas 3.0. This inplace method will never work because the intermediate object on which we are setting values always behaves as a copy.\n",
      "\n",
      "For example, when doing 'df[col].method(value, inplace=True)', try using 'df.method({col: value}, inplace=True)' or df[col] = df[col].method(value) instead, to perform the operation inplace on the original object.\n",
      "\n",
      "\n",
      "  event_df[\"click_delay\"].fillna(0, inplace=True)\n"
     ]
    },
    {
     "name": "stdout",
     "output_type": "stream",
     "text": [
      "🔁 Aggregating event stats...\n",
      "✅ Event encoder done (pair + customer + offer level)\n"
     ]
    }
   ],
   "source": [
    "import pandas as pd\n",
    "import numpy as np\n",
    "import os\n",
    "\n",
    "print(\"📦 Loading event logs...\")\n",
    "event_df = pd.read_parquet(\"../../Dataset/add_event.parquet\")\n",
    "\n",
    "# Ensure dtypes are optimal\n",
    "event_df[\"id2\"] = event_df[\"id2\"].astype(str)\n",
    "event_df[\"id3\"] = event_df[\"id3\"].astype(str)\n",
    "event_df[\"id4\"] = pd.to_datetime(event_df[\"id4\"], errors=\"coerce\")\n",
    "\n",
    "# Only keep relevant rows\n",
    "event_df = event_df[event_df[\"id6\"] == \"Tiles\"].dropna(subset=[\"id4\"])\n",
    "\n",
    "# Sort by time for delay calculation\n",
    "event_df.sort_values([\"id2\", \"id3\", \"id4\"], inplace=True)\n",
    "\n",
    "print(\"🧮 Calculating delays...\")\n",
    "# Compute click delays per (id2, id3)\n",
    "event_df[\"click_delay\"] = event_df.groupby([\"id2\", \"id3\"])[\"id4\"].diff().dt.total_seconds()\n",
    "event_df[\"click_delay\"].fillna(0, inplace=True)\n",
    "\n",
    "print(\"🔁 Aggregating event stats...\")\n",
    "\n",
    "def aggregate_event(df, level):\n",
    "    grouped = df.groupby(level).agg(\n",
    "        clicks=(\"id6\", \"count\"),\n",
    "        views=(\"id6\", \"count\"),  # same as clicks if no separate views\n",
    "        click_rate=(\"id6\", \"count\"),  # placeholder, = clicks/views = 1\n",
    "        avg_click_delay=(\"click_delay\", \"mean\"),\n",
    "        min_click_delay=(\"click_delay\", \"min\"),\n",
    "        max_click_delay=(\"click_delay\", \"max\"),\n",
    "        std_click_delay=(\"click_delay\", \"std\")\n",
    "    ).fillna(0)\n",
    "\n",
    "    grouped[\"click_rate\"] = 1.0  # If views==clicks\n",
    "    return grouped.reset_index()\n",
    "\n",
    "# (1) id2-id3 pair\n",
    "pair_df = aggregate_event(event_df, [\"id2\", \"id3\"])\n",
    "pair_df.to_parquet(\"../../Code/EventsEncoding/event_pair_agg.parquet\", index=False)\n",
    "\n",
    "# (2) id2 (customer)\n",
    "cust_df = aggregate_event(event_df, \"id2\")\n",
    "cust_df.to_parquet(\"../../Code/EventsEncoding/event_customer_agg.parquet\", index=False)\n",
    "\n",
    "# (3) id3 (offer)\n",
    "offer_df = aggregate_event(event_df, \"id3\")\n",
    "offer_df.to_parquet(\"../../Code/EventsEncoding/event_offer_agg.parquet\", index=False)\n",
    "\n",
    "print(\"✅ Event encoder done (pair + customer + offer level)\")\n"
   ]
  },
  {
   "cell_type": "code",
   "execution_count": 10,
   "id": "dacc29aa-7e35-4f87-bf82-41b81d947f0e",
   "metadata": {
    "scrolled": true
   },
   "outputs": [
    {
     "name": "stdout",
     "output_type": "stream",
     "text": [
      "Pair-level shape: (5071961, 9)\n",
      "Customer-level shape: (156657, 8)\n",
      "Offer-level shape: (867, 8)\n",
      "Columns: ['id2', 'id3', 'clicks', 'views', 'click_rate', 'avg_click_delay', 'min_click_delay', 'max_click_delay', 'std_click_delay']\n"
     ]
    }
   ],
   "source": [
    "import pandas as pd\n",
    "\n",
    "pair_df = pd.read_parquet(\"../EventsEncoding/event_pair_agg.parquet\")\n",
    "cust_df = pd.read_parquet(\"../EventsEncoding/event_customer_agg.parquet\")\n",
    "offer_df = pd.read_parquet(\"../EventsEncoding/event_offer_agg.parquet\")\n",
    "\n",
    "print(\"Pair-level shape:\", pair_df.shape)\n",
    "print(\"Customer-level shape:\", cust_df.shape)\n",
    "print(\"Offer-level shape:\", offer_df.shape)\n",
    "\n",
    "print(\"Columns:\", pair_df.columns.tolist())\n"
   ]
  },
  {
   "cell_type": "code",
   "execution_count": null,
   "id": "3ab583c0-1174-4da7-b3f9-9cc3b3f40cf4",
   "metadata": {
    "scrolled": true
   },
   "outputs": [],
   "source": []
  },
  {
   "cell_type": "code",
   "execution_count": 14,
   "id": "60f32c47-bb5c-4e5b-a9e3-2462950522df",
   "metadata": {},
   "outputs": [
    {
     "name": "stdout",
     "output_type": "stream",
     "text": [
      "\n",
      "📐 Aggregate shapes & columns:\n",
      "Pair-level: (5071961, 9)\n",
      "Columns: ['id2', 'id3', 'clicks', 'views', 'click_rate', 'avg_click_delay', 'min_click_delay', 'max_click_delay', 'std_click_delay']\n",
      "Customer-level: (156657, 8)\n",
      "Offer-level: (867, 8)\n",
      "\n",
      "🧪 Null checks:\n",
      "Pair-level nulls:\n",
      " id2                0\n",
      "id3                0\n",
      "clicks             0\n",
      "views              0\n",
      "click_rate         0\n",
      "avg_click_delay    0\n",
      "min_click_delay    0\n",
      "max_click_delay    0\n",
      "std_click_delay    0\n",
      "dtype: int64\n",
      "Customer-level nulls:\n",
      " id2                0\n",
      "clicks             0\n",
      "views              0\n",
      "click_rate         0\n",
      "avg_click_delay    0\n",
      "min_click_delay    0\n",
      "max_click_delay    0\n",
      "std_click_delay    0\n",
      "dtype: int64\n",
      "Offer-level nulls:\n",
      " id3                0\n",
      "clicks             0\n",
      "views              0\n",
      "click_rate         0\n",
      "avg_click_delay    0\n",
      "min_click_delay    0\n",
      "max_click_delay    0\n",
      "std_click_delay    0\n",
      "dtype: int64\n",
      "🔍 Pair-level click_rate mismatches: 0\n",
      "🔍 Customer-level click_rate mismatches: 0\n",
      "🔍 Offer-level click_rate mismatches: 0\n",
      "\n",
      "🧾 Sample entries:\n",
      "Pair-level:\n",
      "              id2     id3  clicks  views  click_rate  avg_click_delay  \\\n",
      "4959954  2878289  357174       1      1         1.0              0.0   \n",
      "3566587  2632051   99856       1      1         1.0              0.0   \n",
      "\n",
      "         min_click_delay  max_click_delay  std_click_delay  \n",
      "4959954              0.0              0.0              0.0  \n",
      "3566587              0.0              0.0              0.0  \n",
      "Customer-level:\n",
      "             id2  clicks  views  click_rate  avg_click_delay  min_click_delay  \\\n",
      "61642   2351173       7      7         1.0              0.0              0.0   \n",
      "120737  2692177       7      7         1.0              0.0              0.0   \n",
      "\n",
      "        max_click_delay  std_click_delay  \n",
      "61642               0.0              0.0  \n",
      "120737              0.0              0.0  \n",
      "Offer-level:\n",
      "          id3  clicks  views  click_rate  avg_click_delay  min_click_delay  \\\n",
      "15   1264210   11301  11301         1.0     33088.949670              0.0   \n",
      "452    63726     903    903         1.0     37878.895679              0.0   \n",
      "\n",
      "     max_click_delay  std_click_delay  \n",
      "15        801815.695    106307.969892  \n",
      "452       949030.910    125101.831697  \n"
     ]
    }
   ],
   "source": [
    "import numpy as np\n",
    "\n",
    "# --------- Load the aggregated Parquet files ---------\n",
    "pair_agg = pd.read_parquet(\"event_pair_agg.parquet\")\n",
    "customer_agg = pd.read_parquet(\"event_customer_agg.parquet\")\n",
    "offer_agg = pd.read_parquet(\"event_offer_agg.parquet\")\n",
    "\n",
    "# --------- 1. Shape and Column Sanity ---------\n",
    "print(\"\\n📐 Aggregate shapes & columns:\")\n",
    "print(\"Pair-level:\", pair_agg.shape)\n",
    "print(\"Columns:\", list(pair_agg.columns))\n",
    "print(\"Customer-level:\", customer_agg.shape)\n",
    "print(\"Offer-level:\", offer_agg.shape)\n",
    "\n",
    "# --------- 2. Null Checks ---------\n",
    "print(\"\\n🧪 Null checks:\")\n",
    "print(\"Pair-level nulls:\\n\", pair_agg.isnull().sum())\n",
    "print(\"Customer-level nulls:\\n\", customer_agg.isnull().sum())\n",
    "print(\"Offer-level nulls:\\n\", offer_agg.isnull().sum())\n",
    "\n",
    "# --------- 3. Consistency Check for click_rate ---------\n",
    "def check_click_rate(df, level_name):\n",
    "    expected = df[\"clicks\"] / df[\"views\"]\n",
    "    actual = df[\"click_rate\"]\n",
    "    mismatched = ~np.isclose(expected, actual, atol=1e-3)\n",
    "    print(f\"🔍 {level_name} click_rate mismatches: {mismatched.sum()}\")\n",
    "\n",
    "check_click_rate(pair_agg, \"Pair-level\")\n",
    "check_click_rate(customer_agg, \"Customer-level\")\n",
    "check_click_rate(offer_agg, \"Offer-level\")\n",
    "\n",
    "# --------- 4. Sample Preview ---------\n",
    "print(\"\\n🧾 Sample entries:\")\n",
    "print(\"Pair-level:\\n\", pair_agg.sample(2))\n",
    "print(\"Customer-level:\\n\", customer_agg.sample(2))\n",
    "print(\"Offer-level:\\n\", offer_agg.sample(2))\n",
    "\n",
    "\n"
   ]
  },
  {
   "cell_type": "code",
   "execution_count": null,
   "id": "301deeb3-0cad-4ee2-ba91-2f1c867b67bd",
   "metadata": {},
   "outputs": [],
   "source": []
  },
  {
   "cell_type": "code",
   "execution_count": null,
   "id": "e19d7093-bfbe-4afb-becc-94c980b91c0f",
   "metadata": {},
   "outputs": [],
   "source": [
    "\n"
   ]
  },
  {
   "cell_type": "code",
   "execution_count": null,
   "id": "96430211-662e-4715-bc98-9cd48673e33c",
   "metadata": {},
   "outputs": [],
   "source": []
  },
  {
   "cell_type": "code",
   "execution_count": null,
   "id": "9ace5415-11a3-457c-9a6c-a25bf3e39f70",
   "metadata": {},
   "outputs": [],
   "source": [
    "\n"
   ]
  },
  {
   "cell_type": "code",
   "execution_count": null,
   "id": "58a2b9ef-c224-4b63-8558-0b8ea41ebe6b",
   "metadata": {},
   "outputs": [],
   "source": []
  }
 ],
 "metadata": {
  "kernelspec": {
   "display_name": "Python 3 (ipykernel)",
   "language": "python",
   "name": "python3"
  },
  "language_info": {
   "codemirror_mode": {
    "name": "ipython",
    "version": 3
   },
   "file_extension": ".py",
   "mimetype": "text/x-python",
   "name": "python",
   "nbconvert_exporter": "python",
   "pygments_lexer": "ipython3",
   "version": "3.12.2"
  }
 },
 "nbformat": 4,
 "nbformat_minor": 5
}
